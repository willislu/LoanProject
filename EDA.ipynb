{
 "cells": [
  {
   "cell_type": "code",
   "execution_count": null,
   "id": "1c89a616-8f2b-4719-ba4c-146af94bc2c5",
   "metadata": {},
   "outputs": [],
   "source": []
  }
 ],
 "metadata": {
  "kernelspec": {
   "display_name": "",
   "name": ""
  },
  "language_info": {
   "name": ""
  }
 },
 "nbformat": 4,
 "nbformat_minor": 5
}
